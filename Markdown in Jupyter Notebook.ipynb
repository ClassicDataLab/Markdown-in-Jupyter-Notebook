{
 "cells": [
  {
   "cell_type": "markdown",
   "id": "4b2b9d27",
   "metadata": {},
   "source": [
    "\n"
   ]
  },
  {
   "cell_type": "markdown",
   "id": "3881bed9",
   "metadata": {},
   "source": [
    "# Markdown"
   ]
  },
  {
   "cell_type": "markdown",
   "id": "7380298b",
   "metadata": {},
   "source": [
    " ### What is Markdown?\n",
    " \n",
    "Markdown is a lightweight markup language that you can use to add formatting elements to plaintext text documents. Created by John Gruber in 2004 \n",
    "Markdown is a lightweight markup language developed by John Gruber and Aaron Swartz in 2004 for creating formatted text using a plain-text editor. [wikipedia](https://en.wikipedia.org/wiki/Markdown)\n",
    "\n",
    "Like any other markup labguage, Markdown is made up of markpup tags (opening tags and closing tags), light, and can be easily transfered hence widely used by [Data Scientist](https://youtu.be/fcVKqjahW-A) for writting.\n",
    "\n"
   ]
  },
  {
   "cell_type": "markdown",
   "id": "5dacfaae",
   "metadata": {},
   "source": [
    "# Lesson Content"
   ]
  },
  {
   "cell_type": "markdown",
   "id": "2052fb13",
   "metadata": {},
   "source": [
    "[1.Creating Headers](#1.Creating-Headers)\n",
    "\n",
    "[2.Bolding a text](#2.Bolding-a-text)\n",
    "\n",
    "[3.Creating italic text](#3.Creating-italic-text)\n",
    "\n",
    "[4.Underlining a text](#4.Underlining-a-text)\n",
    "\n",
    "[5.Creating-a-table](#5.Creating-a-table)\n",
    "\n",
    "[6.Creating an unordered list (bullets)](#6.Creating-an-unordered-list-(bullets))\n",
    "\n",
    "[7.Creating a numbered (ordered) list](#7.Creating-a-numbered-(ordered)-list)\n",
    "\n",
    "[8.Creating a Code Section](#8.Creating-a-Code-Section)\n",
    "\n",
    "[9.Line Break](#9.Line-Break)\n",
    "\n",
    "[10.Inserting an image](#10.Inserting-an-image)\n",
    "\n",
    "[11.Inserting internal link ](#11.Inserting-internal-link) \n",
    "\n",
    "[12.Inserting external links](#12.Inserting-external-links)\n",
    "\n",
    "[The End](#The-End)"
   ]
  },
  {
   "cell_type": "code",
   "execution_count": null,
   "id": "e0b2cdef",
   "metadata": {},
   "outputs": [],
   "source": []
  },
  {
   "cell_type": "markdown",
   "id": "a7c8913a",
   "metadata": {},
   "source": [
    "## 1.Creating Headers"
   ]
  },
  {
   "cell_type": "markdown",
   "id": "2e76f067",
   "metadata": {},
   "source": [
    "### Method 1 (using the hash sign #)"
   ]
  },
  {
   "cell_type": "code",
   "execution_count": null,
   "id": "024a3b82",
   "metadata": {},
   "outputs": [],
   "source": []
  },
  {
   "cell_type": "markdown",
   "id": "0990e3c7",
   "metadata": {},
   "source": [
    "# Header 1 (Usually used for Titles)\n",
    "\n",
    "## Header 2   (Usually used for Major headings)\n",
    "\n",
    "### Header 3      ( Usually used for subheadings)\n",
    "\n",
    "#### Header 4\n",
    "\n",
    "##### Header 5\n",
    "\n",
    "###### Header 6"
   ]
  },
  {
   "cell_type": "code",
   "execution_count": null,
   "id": "fb26b408",
   "metadata": {},
   "outputs": [],
   "source": []
  },
  {
   "cell_type": "markdown",
   "id": "0e6b1c56",
   "metadata": {},
   "source": [
    "### Method 2 (using tags)"
   ]
  },
  {
   "cell_type": "code",
   "execution_count": null,
   "id": "79e36182",
   "metadata": {},
   "outputs": [],
   "source": []
  },
  {
   "cell_type": "markdown",
   "id": "e440369b",
   "metadata": {},
   "source": [
    "<h1>Header 1 </h1>\n",
    "\n",
    "<h2>Header 2</h2>\n",
    "\n",
    "<h3>Header 3</h3>\n",
    "\n",
    "<h4>Header 4</h4>\n",
    "\n",
    "<h5>Header 5</h5>\n",
    "\n",
    "<h6>Header 6</h6>"
   ]
  },
  {
   "cell_type": "code",
   "execution_count": null,
   "id": "a8e86eba",
   "metadata": {},
   "outputs": [],
   "source": []
  },
  {
   "cell_type": "code",
   "execution_count": null,
   "id": "6067f5b8",
   "metadata": {},
   "outputs": [],
   "source": []
  },
  {
   "cell_type": "markdown",
   "id": "7a20c0dc",
   "metadata": {},
   "source": [
    "## 2.Bolding a text"
   ]
  },
  {
   "cell_type": "markdown",
   "id": "d71dbce2",
   "metadata": {},
   "source": [
    "### Method 1 (using double asterisk '**' or  double underscore '__' ) "
   ]
  },
  {
   "cell_type": "markdown",
   "id": "aff7de30",
   "metadata": {},
   "source": [
    "Examples\n",
    "\n",
    "To become a sucessful Data Scientist, you need to be **self-disciplined** and **Concistent**.\n",
    "\n",
    "As a Data Scientist you need to know __Machine Learning__ and __Deep Learning__.\n",
    "\n"
   ]
  },
  {
   "cell_type": "code",
   "execution_count": null,
   "id": "c90ec137",
   "metadata": {},
   "outputs": [],
   "source": []
  },
  {
   "cell_type": "markdown",
   "id": "7ebe49ed",
   "metadata": {},
   "source": [
    "### Method 2 (using tags)"
   ]
  },
  {
   "cell_type": "markdown",
   "id": "4017e383",
   "metadata": {},
   "source": [
    "Example\n",
    "\n",
    "This text is <b>bold</b>"
   ]
  },
  {
   "cell_type": "code",
   "execution_count": null,
   "id": "7740fa57",
   "metadata": {},
   "outputs": [],
   "source": []
  },
  {
   "cell_type": "code",
   "execution_count": null,
   "id": "d8ba28c7",
   "metadata": {},
   "outputs": [],
   "source": []
  },
  {
   "cell_type": "markdown",
   "id": "96cf37eb",
   "metadata": {},
   "source": [
    "## 3.Creating italic text"
   ]
  },
  {
   "cell_type": "markdown",
   "id": "87959a53",
   "metadata": {},
   "source": [
    "### Method 1 (using single asterisk '*' or  single underscore '_' ) "
   ]
  },
  {
   "cell_type": "markdown",
   "id": "1b5e9455",
   "metadata": {},
   "source": [
    "Examples\n",
    "\n",
    "To become a sucessful Data Scientist, you need to be *self-disciplined* and *Concistent*.\n",
    "\n",
    "As a Data Scientist you need to know _Machine Learning_ and _Deep Learning_.\n",
    "\n"
   ]
  },
  {
   "cell_type": "markdown",
   "id": "b7d459cf",
   "metadata": {},
   "source": [
    "### Method 2 (using tags)"
   ]
  },
  {
   "cell_type": "markdown",
   "id": "9a9c15c4",
   "metadata": {},
   "source": [
    "Example\n",
    "\n",
    "This text is <i>italized</i>"
   ]
  },
  {
   "cell_type": "code",
   "execution_count": null,
   "id": "398fb9f3",
   "metadata": {},
   "outputs": [],
   "source": []
  },
  {
   "cell_type": "code",
   "execution_count": null,
   "id": "204c80b8",
   "metadata": {},
   "outputs": [],
   "source": []
  },
  {
   "cell_type": "markdown",
   "id": "b3827bab",
   "metadata": {},
   "source": [
    "## 4.Underlining a text"
   ]
  },
  {
   "cell_type": "markdown",
   "id": "a004ae2a",
   "metadata": {},
   "source": [
    "Underline the phrase <u>computer programming</u>."
   ]
  },
  {
   "cell_type": "code",
   "execution_count": null,
   "id": "b9200e78",
   "metadata": {},
   "outputs": [],
   "source": []
  },
  {
   "cell_type": "code",
   "execution_count": null,
   "id": "454293dc",
   "metadata": {},
   "outputs": [],
   "source": []
  },
  {
   "cell_type": "markdown",
   "id": "ba9743a1",
   "metadata": {},
   "source": [
    "## 5.Creating-a-table"
   ]
  },
  {
   "cell_type": "markdown",
   "id": "04339312",
   "metadata": {},
   "source": [
    "### Method 1 (Using dashes '-' and pipes '|')"
   ]
  },
  {
   "cell_type": "markdown",
   "id": "0b874e57",
   "metadata": {},
   "source": [
    "|Operator||Action|\n",
    "|----||----|\n",
    "|+||addition|\n",
    "|-||subtraction|\n",
    "|*||multiplication|\n",
    "|/|| divsion|\n",
    "|\\**||exponential|\n",
    "|%||modulo|\n",
    "|\\//|| integer division|"
   ]
  },
  {
   "cell_type": "markdown",
   "id": "e24c17f4",
   "metadata": {},
   "source": [
    "### Method 2 (Using tags)"
   ]
  },
  {
   "cell_type": "markdown",
   "id": "724066a1",
   "metadata": {},
   "source": [
    "<table>\n",
    "<tr>\n",
    "<th>Operator</th>\n",
    "<th>Action</th>\n",
    "</tr>\n",
    "\n",
    "<tr>\n",
    "<td>+</td>\n",
    "<td>addition</td>\n",
    "</tr>\n",
    "<tr>\n",
    "<td>-</td>\n",
    "<td>subtraction</td>\n",
    "</tr>\n",
    "\n",
    "<tr>\n",
    "<td>----</td>\n",
    "<td>----</td>\n",
    "</tr>\n",
    "    \n",
    "</table>"
   ]
  },
  {
   "cell_type": "markdown",
   "id": "d36acbc2",
   "metadata": {},
   "source": [
    "## 6.Creating an unordered list (bullets)"
   ]
  },
  {
   "cell_type": "markdown",
   "id": "55b40d43",
   "metadata": {},
   "source": [
    "### Method 1 (Using the  '-', or '+' or '*' symbol with space)"
   ]
  },
  {
   "cell_type": "markdown",
   "id": "ee830d10",
   "metadata": {},
   "source": [
    "Example\n",
    "\n",
    "The pillars of Data Science include:   \n",
    "-   Computer programming\n",
    "-   Statistics\n",
    "-   Domain knowledge"
   ]
  },
  {
   "cell_type": "markdown",
   "id": "cf804cc9",
   "metadata": {},
   "source": [
    "### Method 2 (Using tags )"
   ]
  },
  {
   "cell_type": "markdown",
   "id": "e2982809",
   "metadata": {},
   "source": [
    "The pillars of Data Science include:   \n",
    "<ul>\n",
    "<li>Computer programming</li>\n",
    "<li>Statistics</li>\n",
    "<li>Domain knowledge</li>\n",
    "</ul>"
   ]
  },
  {
   "cell_type": "code",
   "execution_count": null,
   "id": "ef611ac0",
   "metadata": {},
   "outputs": [],
   "source": []
  },
  {
   "cell_type": "code",
   "execution_count": null,
   "id": "73ff6658",
   "metadata": {},
   "outputs": [],
   "source": []
  },
  {
   "cell_type": "markdown",
   "id": "3d1af7dc",
   "metadata": {},
   "source": [
    "## 7.Creating a numbered (ordered) list"
   ]
  },
  {
   "cell_type": "markdown",
   "id": "a1e28b6d",
   "metadata": {},
   "source": [
    "### Method 1 (Using numbers, dot ,and space)"
   ]
  },
  {
   "cell_type": "markdown",
   "id": "b88b6556",
   "metadata": {},
   "source": [
    "Example\n",
    "\n",
    "The pillars of Data Science include:   \n",
    "1. Computer programming\n",
    "2. Statistics\n",
    "3. Domain knowledge"
   ]
  },
  {
   "cell_type": "markdown",
   "id": "fb5b73e5",
   "metadata": {},
   "source": [
    "### Method 2 (Using tags)"
   ]
  },
  {
   "cell_type": "markdown",
   "id": "b6bfcab1",
   "metadata": {},
   "source": [
    "The pillars of Data Science include:\n",
    "<ol>\n",
    "<li>Computer programming</li>\n",
    "<li>Statistics</li>\n",
    "<li> Domain knowledge</li>\n",
    "</ol>"
   ]
  },
  {
   "cell_type": "code",
   "execution_count": null,
   "id": "e7585a88",
   "metadata": {},
   "outputs": [],
   "source": []
  },
  {
   "cell_type": "code",
   "execution_count": null,
   "id": "3efa1f2f",
   "metadata": {},
   "outputs": [],
   "source": []
  },
  {
   "cell_type": "markdown",
   "id": "1bccc7c8",
   "metadata": {},
   "source": [
    "## 8.Creating a Code Section"
   ]
  },
  {
   "cell_type": "markdown",
   "id": "9ebd7632",
   "metadata": {},
   "source": [
    " `inline code goes here`\n",
    " \n",
    "```python\n",
    "\n",
    "x = float(input(\"Enter a number for x: \"))\n",
    "y = float(input(\"Enter a number for y: \"))\n",
    "\n",
    "if x == y:\n",
    "    print(\"x and y are equal\")\n",
    "    \n",
    "    if y != 0:\n",
    "        print(\"x/y is possible. x/y =\",x/y)\n",
    "    else:\n",
    "        print(\"y = 0\")  \n",
    "        \n",
    "elif x < y:\n",
    "    print(\"x is smaller\")\n",
    "    \n",
    "elif x > y:\n",
    "    print(\"x is greater\") \n",
    "    \n",
    "print(\"Thanks\")\n"
   ]
  },
  {
   "cell_type": "markdown",
   "id": "cc179c8c",
   "metadata": {},
   "source": [
    "### Method 2 (Using Tags)\n"
   ]
  },
  {
   "cell_type": "markdown",
   "id": "be0ee556",
   "metadata": {},
   "source": [
    "<code>x = float(input(\"Enter a number for x: \"))\n",
    "y = float(input(\"Enter a number for y: \"))\n",
    "if x == y:\n",
    "    print(\"x and y are equal\")\n",
    "    if y != 0:\n",
    "        print(\"x/y is possible. x/y =\",x/y)\n",
    "    else:\n",
    "        print(\"y = 0\")  \n",
    "elif x < y:\n",
    "    print(\"x is smaller\")   \n",
    "elif x > y:\n",
    "    print(\"x is greater\") \n",
    "print(\"Thanks\")<code>\n"
   ]
  },
  {
   "cell_type": "code",
   "execution_count": null,
   "id": "251987bb",
   "metadata": {},
   "outputs": [],
   "source": []
  },
  {
   "cell_type": "code",
   "execution_count": null,
   "id": "2dfbe6b2",
   "metadata": {},
   "outputs": [],
   "source": []
  },
  {
   "cell_type": "markdown",
   "id": "6198e62f",
   "metadata": {},
   "source": [
    "## 9.Line Break"
   ]
  },
  {
   "cell_type": "markdown",
   "id": "efc5e3a5",
   "metadata": {},
   "source": [
    "### Method 1"
   ]
  },
  {
   "cell_type": "markdown",
   "id": "6be41eab",
   "metadata": {},
   "source": [
    "Description<br>\n",
    "[Classic DataLab](https://www.youtube.com/@classicdatalab/videos) is a channel dedicated to helping people build strong<br> technical and soft skills to draw insight, add value, and make positive impact from available data.<br>\n",
    "We are focused on delivering well-structured professional tutorials on varieties of data related subjects like: Python<br> programming, Data Science, SQL, Applied statistics for Data Science, Data Analytics, Data visualization, Machine Learning,<br> Deep Learning, Data Engineering, MLOps, MLDevops, Big Data, Artificial Intelligence and trending technologies in the Data Science space.<br>\n",
    "Classic DataLab believes in building practical skills hence, includes project-based tutorials in the fore-mentioned subjects.<br> If you believe in gaining practical skills in a data related profession, then kindly hit the subscribe button and let's move together.<br>To contact the instructor  for personal tutorials, projects, remote work, or collaborations,<br>  kindly send an  email to jethrodatascience@gmail.com.<br> \n",
    "Thank you"
   ]
  },
  {
   "cell_type": "markdown",
   "id": "595fed19",
   "metadata": {},
   "source": [
    "### Method 2"
   ]
  },
  {
   "cell_type": "markdown",
   "id": "6c2d8d51",
   "metadata": {},
   "source": [
    "Description\n",
    "[Classic DataLab](https://www.youtube.com/@classicdatalab/videos) is a channel dedicated to helping people build strong\n",
    "\n",
    "technical and soft skills to draw insight, add value, and make positive impact from available data.\n",
    "\n",
    "We are focused on delivering well-structured professional tutorials on varieties of data related subjects like:\n",
    "\n",
    "Python programming, Data Science, SQL, Applied statistics for Data Science, Data Analytics, Data visualization, Machine Learning, \n",
    "\n",
    "Deep Learning, Data Engineering, MLOps, MLDevops, Big Data, Artificial Intelligence and trending technologies in the Data Science space.\n",
    "\n",
    "Classic DataLab believes in building practical skills hence, includes project-based tutorials in the fore-mentioned subjects. \n",
    "\n",
    "If you believe in gaining practical skills in a data related profession, then kindly hit the subscribe button and let's move \n",
    "\n",
    "together.To contact the instructor  for personal tutorials, projects, remote work, or collaborations,  kindly send an  email to \n",
    "\n",
    "jethrodatascience@gmail.com.\n",
    "\n",
    "Thank you"
   ]
  },
  {
   "cell_type": "code",
   "execution_count": null,
   "id": "38c47690",
   "metadata": {},
   "outputs": [],
   "source": []
  },
  {
   "cell_type": "code",
   "execution_count": null,
   "id": "d0583c5b",
   "metadata": {},
   "outputs": [],
   "source": []
  },
  {
   "cell_type": "markdown",
   "id": "98547418",
   "metadata": {},
   "source": [
    "## 10.Inserting an image"
   ]
  },
  {
   "cell_type": "markdown",
   "id": "3bda9d0f",
   "metadata": {},
   "source": [
    "Image\n",
    "<img src=\"ClassicDataLab.png\" width=400 height=400/>"
   ]
  },
  {
   "cell_type": "markdown",
   "id": "ebf12a32",
   "metadata": {},
   "source": [
    "![](\"ClassicDataLab.png\")"
   ]
  },
  {
   "cell_type": "code",
   "execution_count": 17,
   "id": "644413fe",
   "metadata": {
    "scrolled": true
   },
   "outputs": [
    {
     "data": {
      "text/html": [
       "<img src=\"ClassicDataLab.png\" width=\"400\" height=\"400\"/>"
      ],
      "text/plain": [
       "<IPython.core.display.Image object>"
      ]
     },
     "execution_count": 17,
     "metadata": {},
     "output_type": "execute_result"
    }
   ],
   "source": [
    "from IPython.display import Image\n",
    "Image(url= \"ClassicDataLab.png\", width=400, height=400)"
   ]
  },
  {
   "cell_type": "code",
   "execution_count": null,
   "id": "989cc8fa",
   "metadata": {},
   "outputs": [],
   "source": []
  },
  {
   "cell_type": "code",
   "execution_count": null,
   "id": "6171469c",
   "metadata": {},
   "outputs": [],
   "source": []
  },
  {
   "cell_type": "markdown",
   "id": "ae520746",
   "metadata": {},
   "source": [
    "## 11.Inserting internal link \n"
   ]
  },
  {
   "cell_type": "markdown",
   "id": "02aefbeb",
   "metadata": {},
   "source": [
    "[Topic](#Markdown)\n",
    "\n",
    "[Creating a table](#5.Creating-a-table)\n",
    "\n",
    "[Creating Headers](#1.Creating-Headers)"
   ]
  },
  {
   "cell_type": "code",
   "execution_count": null,
   "id": "df742402",
   "metadata": {},
   "outputs": [],
   "source": []
  },
  {
   "cell_type": "code",
   "execution_count": null,
   "id": "3f974f0e",
   "metadata": {},
   "outputs": [],
   "source": []
  },
  {
   "cell_type": "markdown",
   "id": "47eaee78",
   "metadata": {},
   "source": [
    "## 12.Inserting external links"
   ]
  },
  {
   "cell_type": "markdown",
   "id": "53d11fee",
   "metadata": {},
   "source": [
    "**Check out the following videos for more insight:**\n",
    "\n",
    "1. [The basic knowledge you need to start programming with python](https://youtu.be/zvzRVqnEpfk) \n",
    "2. [How to install and launch jupyter notebook](https://youtu.be/Xd3o829Q62s)\n",
    "3. [Introduction to Jupyter notebook](https://youtu.be/VQr1F5BW3n4)\n",
    "4. [What is Data Science?](https://youtu.be/6lHjpxfRf98)\n",
    "5. [Data Scientist: Roles, Skills, Tools, and Salary Range](https://youtu.be/fcVKqjahW-A)\n",
    "6. [Smart way to learn Data Science](https://youtu.be/xobHBz-d6b0)\n",
    "7. [Data Analysts: Roles, Skills, Tools, and Salary Range](https://youtu.be/hX9nktE7Av4) "
   ]
  },
  {
   "cell_type": "markdown",
   "id": "fc1107ca",
   "metadata": {},
   "source": [
    "**If this notebook has helped you, kindly open [Classic Datalab YouTude channel](https://www.youtube.com/@classicdatalab), click the subscribe button , like,share and leave comments to promote it**."
   ]
  },
  {
   "cell_type": "markdown",
   "id": "d1224fc8",
   "metadata": {},
   "source": [
    "## The End"
   ]
  },
  {
   "cell_type": "markdown",
   "id": "b69aeb66",
   "metadata": {},
   "source": [
    "[Back to lesson content](#Lesson-Content)"
   ]
  },
  {
   "cell_type": "markdown",
   "id": "362701f6",
   "metadata": {},
   "source": [
    "# Thank You"
   ]
  },
  {
   "cell_type": "code",
   "execution_count": null,
   "id": "2ab4f05c",
   "metadata": {},
   "outputs": [],
   "source": []
  },
  {
   "cell_type": "code",
   "execution_count": null,
   "id": "af3c7338",
   "metadata": {},
   "outputs": [],
   "source": []
  }
 ],
 "metadata": {
  "kernelspec": {
   "display_name": "Python 3 (ipykernel)",
   "language": "python",
   "name": "python3"
  },
  "language_info": {
   "codemirror_mode": {
    "name": "ipython",
    "version": 3
   },
   "file_extension": ".py",
   "mimetype": "text/x-python",
   "name": "python",
   "nbconvert_exporter": "python",
   "pygments_lexer": "ipython3",
   "version": "3.9.7"
  }
 },
 "nbformat": 4,
 "nbformat_minor": 5
}
